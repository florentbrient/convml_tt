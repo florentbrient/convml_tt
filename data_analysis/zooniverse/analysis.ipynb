{
 "cells": [
  {
   "cell_type": "code",
   "execution_count": 7,
   "id": "f1168ac4",
   "metadata": {},
   "outputs": [
    {
     "name": "stderr",
     "output_type": "stream",
     "text": [
      "/home/fbrient/anaconda3/lib/python3.8/site-packages/ipykernel/ipkernel.py:287: DeprecationWarning: `should_run_async` will not call `transform_cell` automatically in the future. Please pass the result to `transformed_cell` argument and any exception that happen during thetransform in `preprocessing_exc_tuple` in IPython 7.17 and above.\n",
      "  and should_run_async(code)\n"
     ]
    }
   ],
   "source": [
    "import sys\n",
    "sys.path.insert(1, '../..')\n",
    "\n",
    "import convml_tt\n",
    "from convml_tt.data.examples import fetch_pretrained_model, PretrainedModel\n"
   ]
  },
  {
   "cell_type": "code",
   "execution_count": 8,
   "id": "53d27616",
   "metadata": {},
   "outputs": [
    {
     "name": "stderr",
     "output_type": "stream",
     "text": [
      "/home/fbrient/anaconda3/lib/python3.8/site-packages/ipykernel/ipkernel.py:287: DeprecationWarning: `should_run_async` will not call `transform_cell` automatically in the future. Please pass the result to `transformed_cell` argument and any exception that happen during thetransform in `preprocessing_exc_tuple` in IPython 7.17 and above.\n",
      "  and should_run_async(code)\n"
     ]
    }
   ],
   "source": [
    "TILE_FILENAME_FORMAT = \"{triplet_id:05d}_{tile_type}.png\"\n",
    "\n",
    "TEST_SIZE    = 0.3\n",
    "RANDOM_STATE = 1024\n",
    "COLORS = ['b', 'g', 'r', 'm'] # Color of each class\n",
    "\n",
    "# Path data of the original images\n",
    "DATASETS_path = \"/home/fbrient/Dropbox/Documents/EUREC4A/Data/\"\n",
    "DATASET_DIR   = DATASETS_path+\"Kaggle/\""
   ]
  },
  {
   "cell_type": "code",
   "execution_count": 9,
   "id": "53602ebd",
   "metadata": {},
   "outputs": [
    {
     "name": "stderr",
     "output_type": "stream",
     "text": [
      "/home/fbrient/anaconda3/lib/python3.8/site-packages/ipykernel/ipkernel.py:287: DeprecationWarning: `should_run_async` will not call `transform_cell` automatically in the future. Please pass the result to `transformed_cell` argument and any exception that happen during thetransform in `preprocessing_exc_tuple` in IPython 7.17 and above.\n",
      "  and should_run_async(code)\n"
     ]
    },
    {
     "name": "stdout",
     "output_type": "stream",
     "text": [
      "Downloading http://homepages.see.leeds.ac.uk/~earlcd/ml-datasets/fixednorm-stage-2.tgz to ../../fixednorm-stage-2.tgz\n"
     ]
    },
    {
     "data": {
      "application/vnd.jupyter.widget-view+json": {
       "model_id": "1cb79ead16d9463891051beb567fb280",
       "version_major": 2,
       "version_minor": 0
      },
      "text/plain": [
       "  0%|          | 0/43696025 [00:00<?, ?it/s]"
      ]
     },
     "metadata": {},
     "output_type": "display_data"
    },
    {
     "name": "stdout",
     "output_type": "stream",
     "text": [
      "Extracting ../../fixednorm-stage-2.tgz to ../../\n"
     ]
    }
   ],
   "source": [
    "# Reading Leif model\n",
    "model_path = fetch_pretrained_model(pretrained_model=PretrainedModel.FIXED_NORM_STAGE2, data_dir=\"../../\")\n",
    "#model      = load_pretrained_model(pretrained_model=PretrainedModel.FIXED_NORM_STAGE2, data_dir=\"../../\")\n",
    "#print(model)"
   ]
  },
  {
   "cell_type": "code",
   "execution_count": null,
   "id": "21a882d0",
   "metadata": {},
   "outputs": [],
   "source": []
  }
 ],
 "metadata": {
  "kernelspec": {
   "display_name": "Python 3",
   "language": "python",
   "name": "python3"
  },
  "language_info": {
   "codemirror_mode": {
    "name": "ipython",
    "version": 3
   },
   "file_extension": ".py",
   "mimetype": "text/x-python",
   "name": "python",
   "nbconvert_exporter": "python",
   "pygments_lexer": "ipython3",
   "version": "3.8.8"
  }
 },
 "nbformat": 4,
 "nbformat_minor": 5
}
